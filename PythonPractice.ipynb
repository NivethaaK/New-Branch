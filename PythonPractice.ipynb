{
 "cells": [
  {
   "cell_type": "code",
   "execution_count": 1,
   "id": "1b9c9a70-9305-4659-aa80-4f8ea0c7c614",
   "metadata": {},
   "outputs": [
    {
     "name": "stdout",
     "output_type": "stream",
     "text": [
      "Nivethaa\n"
     ]
    }
   ],
   "source": [
    "print(\"Nivethaa\")"
   ]
  },
  {
   "cell_type": "code",
   "execution_count": 3,
   "id": "a545f964-3b50-4cd3-922c-bc64a6165cbc",
   "metadata": {},
   "outputs": [
    {
     "name": "stdout",
     "output_type": "stream",
     "text": [
      "Nivethaa\n"
     ]
    }
   ],
   "source": [
    "print(\"Nivethaa\")"
   ]
  },
  {
   "cell_type": "code",
   "execution_count": 1,
   "id": "2125f28b-78df-47bf-a608-fcada4f041bb",
   "metadata": {},
   "outputs": [
    {
     "ename": "SyntaxError",
     "evalue": "invalid syntax. Maybe you meant '==' or ':=' instead of '='? (2484798831.py, line 1)",
     "output_type": "error",
     "traceback": [
      "\u001b[1;36m  Cell \u001b[1;32mIn[1], line 1\u001b[1;36m\u001b[0m\n\u001b[1;33m    @day=\"monday\"\u001b[0m\n\u001b[1;37m     ^\u001b[0m\n\u001b[1;31mSyntaxError\u001b[0m\u001b[1;31m:\u001b[0m invalid syntax. Maybe you meant '==' or ':=' instead of '='?\n"
     ]
    }
   ],
   "source": [
    "\n",
    "\n",
    "@day=\"monday\"\n",
    "print(@day)\n"
   ]
  },
  {
   "cell_type": "code",
   "execution_count": 7,
   "id": "c6ab6196-942f-4565-adcb-c6250e0ccf76",
   "metadata": {},
   "outputs": [
    {
     "name": "stdout",
     "output_type": "stream",
     "text": [
      "Nive\n"
     ]
    }
   ],
   "source": [
    "_name=\"Nive\"\n",
    "print(_name)"
   ]
  },
  {
   "cell_type": "code",
   "execution_count": 9,
   "id": "0d855713-c305-48e1-9d5a-71c59abe1c85",
   "metadata": {},
   "outputs": [
    {
     "name": "stdout",
     "output_type": "stream",
     "text": [
      "hi\n"
     ]
    }
   ],
   "source": [
    "name_89='hi'\n",
    "print(name_89)"
   ]
  },
  {
   "cell_type": "code",
   "execution_count": 13,
   "id": "3b1d0503-6eaa-447a-94ea-857a4e91831b",
   "metadata": {},
   "outputs": [
    {
     "ename": "SyntaxError",
     "evalue": "invalid syntax (600076972.py, line 1)",
     "output_type": "error",
     "traceback": [
      "\u001b[1;36m  Cell \u001b[1;32mIn[13], line 1\u001b[1;36m\u001b[0m\n\u001b[1;33m    name$67='hi'\u001b[0m\n\u001b[1;37m        ^\u001b[0m\n\u001b[1;31mSyntaxError\u001b[0m\u001b[1;31m:\u001b[0m invalid syntax\n"
     ]
    }
   ],
   "source": [
    "name$67='hi'\n",
    "print(name$67)"
   ]
  },
  {
   "cell_type": "code",
   "execution_count": 15,
   "id": "34eff7ec-0785-44d4-94d2-08da6423e766",
   "metadata": {},
   "outputs": [
    {
     "ename": "SyntaxError",
     "evalue": "invalid syntax (1549500752.py, line 1)",
     "output_type": "error",
     "traceback": [
      "\u001b[1;36m  Cell \u001b[1;32mIn[15], line 1\u001b[1;36m\u001b[0m\n\u001b[1;33m    $hi='hello'\u001b[0m\n\u001b[1;37m    ^\u001b[0m\n\u001b[1;31mSyntaxError\u001b[0m\u001b[1;31m:\u001b[0m invalid syntax\n"
     ]
    }
   ],
   "source": [
    "$hi='hello'\n",
    "print($hi)"
   ]
  },
  {
   "cell_type": "code",
   "execution_count": 17,
   "id": "16556c76-f1ba-460b-a041-0c625864d266",
   "metadata": {},
   "outputs": [],
   "source": [
    "x=29\n",
    "y=3"
   ]
  },
  {
   "cell_type": "code",
   "execution_count": 19,
   "id": "7a61743c-47f9-442f-b6cf-b073f63ef4b7",
   "metadata": {},
   "outputs": [
    {
     "name": "stdout",
     "output_type": "stream",
     "text": [
      "9.666666666666666\n"
     ]
    }
   ],
   "source": [
    "print(x/y)"
   ]
  },
  {
   "cell_type": "code",
   "execution_count": 21,
   "id": "6a041ef8-db34-4225-b3d1-486beea61afe",
   "metadata": {},
   "outputs": [
    {
     "name": "stdout",
     "output_type": "stream",
     "text": [
      "9\n"
     ]
    }
   ],
   "source": [
    "print(x//y)"
   ]
  },
  {
   "cell_type": "code",
   "execution_count": 23,
   "id": "9d8cc7d6-4b92-40d5-83e1-399dc4a4db0c",
   "metadata": {},
   "outputs": [
    {
     "name": "stdout",
     "output_type": "stream",
     "text": [
      "32\n"
     ]
    }
   ],
   "source": [
    "print(2**5)"
   ]
  },
  {
   "cell_type": "code",
   "execution_count": 25,
   "id": "ce2505cf-929c-4056-9fed-ace894f8aa06",
   "metadata": {},
   "outputs": [],
   "source": [
    "w=67"
   ]
  },
  {
   "cell_type": "code",
   "execution_count": 27,
   "id": "f3859c36-cb9c-4630-be37-8b67152e1654",
   "metadata": {},
   "outputs": [],
   "source": [
    "n=7"
   ]
  },
  {
   "cell_type": "code",
   "execution_count": 29,
   "id": "e279f04d-bc22-4f56-886d-cfd08dbf54a1",
   "metadata": {},
   "outputs": [
    {
     "name": "stdout",
     "output_type": "stream",
     "text": [
      "9.571428571428571\n"
     ]
    }
   ],
   "source": [
    "print(w/n)"
   ]
  },
  {
   "cell_type": "code",
   "execution_count": 31,
   "id": "f64ac53f-7a4b-49df-ac6f-a653a2b5e4d5",
   "metadata": {},
   "outputs": [
    {
     "name": "stdout",
     "output_type": "stream",
     "text": [
      "9\n"
     ]
    }
   ],
   "source": [
    "print(w//n)"
   ]
  },
  {
   "cell_type": "code",
   "execution_count": 33,
   "id": "defb957f-6cb9-495e-a613-60f926892279",
   "metadata": {},
   "outputs": [
    {
     "name": "stdout",
     "output_type": "stream",
     "text": [
      "4\n"
     ]
    }
   ],
   "source": [
    "print(w%n)"
   ]
  },
  {
   "cell_type": "code",
   "execution_count": 35,
   "id": "1531a481-a2d8-4e93-b24f-c0b4c15f03a3",
   "metadata": {},
   "outputs": [
    {
     "name": "stdout",
     "output_type": "stream",
     "text": [
      "6060711605323\n"
     ]
    }
   ],
   "source": [
    "print(w**n)"
   ]
  },
  {
   "cell_type": "code",
   "execution_count": 37,
   "id": "57f3a0c8-ce11-417e-bf6c-4a738b0c06d0",
   "metadata": {},
   "outputs": [],
   "source": [
    "a=900"
   ]
  },
  {
   "cell_type": "code",
   "execution_count": 39,
   "id": "fe28f29a-82aa-4c49-81d4-1cb34aabf156",
   "metadata": {},
   "outputs": [],
   "source": [
    "a=a-100"
   ]
  },
  {
   "cell_type": "code",
   "execution_count": 41,
   "id": "6dc3b99d-2422-413c-8673-096c35d32375",
   "metadata": {},
   "outputs": [
    {
     "name": "stdout",
     "output_type": "stream",
     "text": [
      "800\n"
     ]
    }
   ],
   "source": [
    "print(a)"
   ]
  },
  {
   "cell_type": "code",
   "execution_count": 43,
   "id": "d675c3af-a0da-453a-81eb-4b992125a853",
   "metadata": {},
   "outputs": [
    {
     "name": "stdout",
     "output_type": "stream",
     "text": [
      "4.5\n"
     ]
    }
   ],
   "source": [
    "a=900\n",
    "a/=200\n",
    "print(a)"
   ]
  },
  {
   "cell_type": "code",
   "execution_count": 45,
   "id": "e8a5f016-9513-47ab-94a6-041638486d33",
   "metadata": {},
   "outputs": [
    {
     "name": "stdout",
     "output_type": "stream",
     "text": [
      "180000\n"
     ]
    }
   ],
   "source": [
    "a=900\n",
    "a*=200\n",
    "print(a)"
   ]
  },
  {
   "cell_type": "code",
   "execution_count": 47,
   "id": "92eb8c53-1135-464c-b195-c7a30d418ac9",
   "metadata": {},
   "outputs": [
    {
     "name": "stdout",
     "output_type": "stream",
     "text": [
      "2\n"
     ]
    }
   ],
   "source": [
    "a=900\n",
    "a//=423\n",
    "print(a)"
   ]
  },
  {
   "cell_type": "code",
   "execution_count": 49,
   "id": "b29f313e-2308-4569-a3cc-470f27c71d2f",
   "metadata": {},
   "outputs": [
    {
     "name": "stdout",
     "output_type": "stream",
     "text": [
      "0\n"
     ]
    }
   ],
   "source": [
    "a=500\n",
    "a%=250\n",
    "print(a)"
   ]
  },
  {
   "cell_type": "code",
   "execution_count": 1,
   "id": "96e37fc9-6211-437c-9d73-6209149ca408",
   "metadata": {},
   "outputs": [
    {
     "ename": "SyntaxError",
     "evalue": "invalid syntax (3863644824.py, line 3)",
     "output_type": "error",
     "traceback": [
      "\u001b[1;36m  Cell \u001b[1;32mIn[1], line 3\u001b[1;36m\u001b[0m\n\u001b[1;33m    print(::-1)\u001b[0m\n\u001b[1;37m          ^\u001b[0m\n\u001b[1;31mSyntaxError\u001b[0m\u001b[1;31m:\u001b[0m invalid syntax\n"
     ]
    }
   ],
   "source": [
    "list=[12,23,98,76,54,43]\n",
    "print(l[1:5])\n",
    "print(::-1)\n",
    "print(l[-1:-3])"
   ]
  },
  {
   "cell_type": "code",
   "execution_count": 3,
   "id": "4a801380-6b32-49fc-9ee3-9f256eaecdc3",
   "metadata": {},
   "outputs": [
    {
     "ename": "NameError",
     "evalue": "name 'l' is not defined",
     "output_type": "error",
     "traceback": [
      "\u001b[1;31m---------------------------------------------------------------------------\u001b[0m",
      "\u001b[1;31mNameError\u001b[0m                                 Traceback (most recent call last)",
      "Cell \u001b[1;32mIn[3], line 2\u001b[0m\n\u001b[0;32m      1\u001b[0m \u001b[38;5;28mlist\u001b[39m\u001b[38;5;241m=\u001b[39m[\u001b[38;5;241m12\u001b[39m,\u001b[38;5;241m23\u001b[39m,\u001b[38;5;241m98\u001b[39m,\u001b[38;5;241m76\u001b[39m,\u001b[38;5;241m54\u001b[39m,\u001b[38;5;241m43\u001b[39m]\n\u001b[1;32m----> 2\u001b[0m \u001b[38;5;28mprint\u001b[39m(l[\u001b[38;5;241m1\u001b[39m:\u001b[38;5;241m5\u001b[39m])\n\u001b[0;32m      3\u001b[0m \u001b[38;5;28mprint\u001b[39m(l[::\u001b[38;5;241m-\u001b[39m\u001b[38;5;241m1\u001b[39m])\n\u001b[0;32m      4\u001b[0m \u001b[38;5;28mprint\u001b[39m(l[\u001b[38;5;241m-\u001b[39m\u001b[38;5;241m1\u001b[39m:\u001b[38;5;241m-\u001b[39m\u001b[38;5;241m3\u001b[39m])\n",
      "\u001b[1;31mNameError\u001b[0m: name 'l' is not defined"
     ]
    }
   ],
   "source": [
    "list=[12,23,98,76,54,43]\n",
    "print(l[1:5])\n",
    "print(l[::-1])\n",
    "print(l[-1:-3])"
   ]
  },
  {
   "cell_type": "code",
   "execution_count": 5,
   "id": "99e5937b-111e-4f13-a8d0-deef2504db00",
   "metadata": {},
   "outputs": [
    {
     "name": "stdout",
     "output_type": "stream",
     "text": [
      "[12, 23, 98, 76, 54, 43]\n"
     ]
    }
   ],
   "source": [
    "list=[12,23,98,76,54,43]\n",
    "print(list)"
   ]
  },
  {
   "cell_type": "code",
   "execution_count": 7,
   "id": "dc8b75e8-9933-43f2-9429-90dc76c23501",
   "metadata": {},
   "outputs": [
    {
     "ename": "NameError",
     "evalue": "name 'l' is not defined",
     "output_type": "error",
     "traceback": [
      "\u001b[1;31m---------------------------------------------------------------------------\u001b[0m",
      "\u001b[1;31mNameError\u001b[0m                                 Traceback (most recent call last)",
      "Cell \u001b[1;32mIn[7], line 1\u001b[0m\n\u001b[1;32m----> 1\u001b[0m l[\u001b[38;5;241m1\u001b[39m:\u001b[38;5;241m5\u001b[39m]\n",
      "\u001b[1;31mNameError\u001b[0m: name 'l' is not defined"
     ]
    }
   ],
   "source": [
    "l[1:5]"
   ]
  },
  {
   "cell_type": "code",
   "execution_count": 9,
   "id": "8fd53556-0eb9-4841-832c-fefa12c55be7",
   "metadata": {},
   "outputs": [
    {
     "name": "stdout",
     "output_type": "stream",
     "text": [
      "[12, 23, 98, 76, 54, 43]\n"
     ]
    }
   ],
   "source": [
    "list=[12,23,98,76,54,43]\n",
    "print(list)"
   ]
  },
  {
   "cell_type": "code",
   "execution_count": 11,
   "id": "cb7eaab3-6a9a-4fca-b5e3-068f03a3d07f",
   "metadata": {},
   "outputs": [
    {
     "data": {
      "text/plain": [
       "[]"
      ]
     },
     "execution_count": 11,
     "metadata": {},
     "output_type": "execute_result"
    }
   ],
   "source": [
    "list[1:5]\n",
    "list[::-1]\n",
    "list[-1:-3]\n"
   ]
  },
  {
   "cell_type": "code",
   "execution_count": 13,
   "id": "4f00b838-435d-4005-9afc-651ac2c7b60e",
   "metadata": {},
   "outputs": [
    {
     "name": "stdout",
     "output_type": "stream",
     "text": [
      "[12, 23, 98, 76, 54, 43]\n"
     ]
    }
   ],
   "source": [
    "list=[12,23,98,76,54,43]\n",
    "print(list)"
   ]
  },
  {
   "cell_type": "code",
   "execution_count": 15,
   "id": "ef45b85e-6dbb-489e-a4a4-5d9c702c372e",
   "metadata": {},
   "outputs": [
    {
     "data": {
      "text/plain": [
       "[23, 98, 76, 54]"
      ]
     },
     "execution_count": 15,
     "metadata": {},
     "output_type": "execute_result"
    }
   ],
   "source": [
    "list[1:5]"
   ]
  },
  {
   "cell_type": "code",
   "execution_count": 17,
   "id": "719cd927-47bc-4d07-969f-97517b79e2cd",
   "metadata": {},
   "outputs": [
    {
     "data": {
      "text/plain": [
       "[43, 54, 76, 98, 23, 12]"
      ]
     },
     "execution_count": 17,
     "metadata": {},
     "output_type": "execute_result"
    }
   ],
   "source": [
    "list[::-1]"
   ]
  },
  {
   "cell_type": "code",
   "execution_count": 55,
   "id": "ab68ca4b-bd2e-475e-a835-e246f4b553a8",
   "metadata": {},
   "outputs": [
    {
     "data": {
      "text/plain": [
       "[54, 43]"
      ]
     },
     "execution_count": 55,
     "metadata": {},
     "output_type": "execute_result"
    }
   ],
   "source": [
    "list=[12,23,98,76,54,43]\n",
    "list[-2:]"
   ]
  },
  {
   "cell_type": "code",
   "execution_count": 57,
   "id": "ccea6074-fff4-46b5-b8a4-181536fea2a8",
   "metadata": {},
   "outputs": [
    {
     "data": {
      "text/plain": [
       "'THIS IS PYTHON PROGRAMMING'"
      ]
     },
     "execution_count": 57,
     "metadata": {},
     "output_type": "execute_result"
    }
   ],
   "source": [
    "s1=\"this is python programming\"\n",
    "s2=\"python is very powerful\"\n",
    "s1.upper()"
   ]
  },
  {
   "cell_type": "code",
   "execution_count": 59,
   "id": "ac9566b3-d55a-4384-bbe8-54bd4c77d122",
   "metadata": {},
   "outputs": [
    {
     "data": {
      "text/plain": [
       "'python is very powerful'"
      ]
     },
     "execution_count": 59,
     "metadata": {},
     "output_type": "execute_result"
    }
   ],
   "source": [
    "s2.lower()"
   ]
  },
  {
   "cell_type": "code",
   "execution_count": 63,
   "id": "08f299ff-5866-4805-b988-90c56d329a32",
   "metadata": {},
   "outputs": [
    {
     "name": "stdout",
     "output_type": "stream",
     "text": [
      "this is python programmingpython is very powerful\n"
     ]
    }
   ],
   "source": [
    "print(s1+s2)"
   ]
  },
  {
   "cell_type": "code",
   "execution_count": 73,
   "id": "457ea4b4-196b-4171-84ef-615e12030161",
   "metadata": {},
   "outputs": [
    {
     "data": {
      "text/plain": [
       "{'apple', 'bananna', 'grapes', 'kiwi', 'orange'}"
      ]
     },
     "execution_count": 73,
     "metadata": {},
     "output_type": "execute_result"
    }
   ],
   "source": [
    "s1={'apple','orange','bananna'}\n",
    "s2={'apple','kiwi','grapes'}\n",
    "s1.union(s2)"
   ]
  },
  {
   "cell_type": "code",
   "execution_count": 75,
   "id": "fd7969b0-08ec-45fa-958e-7e8038db84ad",
   "metadata": {},
   "outputs": [
    {
     "data": {
      "text/plain": [
       "{'apple'}"
      ]
     },
     "execution_count": 75,
     "metadata": {},
     "output_type": "execute_result"
    }
   ],
   "source": [
    "s1.intersection(s2)"
   ]
  },
  {
   "cell_type": "code",
   "execution_count": 83,
   "id": "8793c6c0-61bc-4e0d-b3f8-3594284e4b9d",
   "metadata": {},
   "outputs": [
    {
     "name": "stdout",
     "output_type": "stream",
     "text": [
      "z is greater\n"
     ]
    }
   ],
   "source": [
    "x=78\n",
    "y=67\n",
    "z=88\n",
    "w=23\n",
    "if x>y and x>z and x>w:\n",
    "    print(\"x is greater\")\n",
    "elif y>x and y>z and y>w:\n",
    "    print(\"y is greater\")\n",
    "elif z>x and z>y and z>w:\n",
    "    print(\"z is greater\")\n",
    "else:\n",
    "    print(\"w is greater\")"
   ]
  },
  {
   "cell_type": "code",
   "execution_count": 85,
   "id": "da5fd491-9443-477e-af13-bad2c837845b",
   "metadata": {},
   "outputs": [
    {
     "name": "stdout",
     "output_type": "stream",
     "text": [
      "nivethaa\n",
      "nivethaa\n",
      "nivethaa\n",
      "nivethaa\n",
      "nivethaa\n",
      "nivethaa\n",
      "nivethaa\n",
      "nivethaa\n",
      "nivethaa\n",
      "nivethaa\n"
     ]
    }
   ],
   "source": [
    "l=1\n",
    "while l<=10:\n",
    "    print(\"nivethaa\")\n",
    "    l=l+1\n",
    "    "
   ]
  },
  {
   "cell_type": "code",
   "execution_count": 93,
   "id": "c46956a0-d1be-485e-ba57-00598e1d780b",
   "metadata": {},
   "outputs": [
    {
     "name": "stdout",
     "output_type": "stream",
     "text": [
      "n\n",
      "i\n",
      "v\n",
      "e\n",
      "t\n",
      "h\n",
      "a\n"
     ]
    }
   ],
   "source": [
    "l=['n','i','v','e','t','h','a']\n",
    "for i in l:\n",
    "    print(i)"
   ]
  },
  {
   "cell_type": "code",
   "execution_count": 91,
   "id": "d85b440c-9c59-48e0-87cf-ff896a4342ea",
   "metadata": {},
   "outputs": [
    {
     "name": "stdout",
     "output_type": "stream",
     "text": [
      "5\n",
      "6\n",
      "7\n",
      "8\n",
      "9\n",
      "10\n",
      "11\n",
      "12\n",
      "13\n",
      "14\n",
      "15\n",
      "16\n",
      "17\n",
      "18\n",
      "19\n",
      "20\n",
      "21\n",
      "22\n",
      "23\n",
      "24\n",
      "25\n"
     ]
    }
   ],
   "source": [
    "for i in range (5,26,1):\n",
    "    print(i)"
   ]
  },
  {
   "cell_type": "code",
   "execution_count": 95,
   "id": "57c61c05-0eb2-4c3b-9a32-7fbecb265a2f",
   "metadata": {},
   "outputs": [],
   "source": [
    "def multiply(a,b,c):\n",
    "    d=a*b*c\n",
    "    return d"
   ]
  },
  {
   "cell_type": "code",
   "execution_count": 97,
   "id": "9e646a47-53b5-48fc-ae42-1d08aa6892d1",
   "metadata": {},
   "outputs": [
    {
     "data": {
      "text/plain": [
       "252"
      ]
     },
     "execution_count": 97,
     "metadata": {},
     "output_type": "execute_result"
    }
   ],
   "source": [
    "multiply(4,7,9)"
   ]
  },
  {
   "cell_type": "code",
   "execution_count": 99,
   "id": "6758338b-48c7-4450-a4b0-94180a453122",
   "metadata": {},
   "outputs": [
    {
     "data": {
      "text/plain": [
       "8"
      ]
     },
     "execution_count": 99,
     "metadata": {},
     "output_type": "execute_result"
    }
   ],
   "source": [
    "multiply(2,2,2)"
   ]
  },
  {
   "cell_type": "code",
   "execution_count": 101,
   "id": "8583c096-413d-4722-ac0b-52a2e7d2b21a",
   "metadata": {},
   "outputs": [],
   "source": [
    "def division(b,c):\n",
    "    d=b/c\n",
    "    return d"
   ]
  },
  {
   "cell_type": "code",
   "execution_count": 103,
   "id": "1884b90b-70a1-4e46-91f0-40e8dd3a5e03",
   "metadata": {},
   "outputs": [
    {
     "data": {
      "text/plain": [
       "2.0"
      ]
     },
     "execution_count": 103,
     "metadata": {},
     "output_type": "execute_result"
    }
   ],
   "source": [
    "division(6,3)"
   ]
  },
  {
   "cell_type": "code",
   "execution_count": 113,
   "id": "1d49a546-074c-4fc6-a7dd-9c6e9e934032",
   "metadata": {},
   "outputs": [
    {
     "data": {
      "text/plain": [
       "27"
      ]
     },
     "execution_count": 113,
     "metadata": {},
     "output_type": "execute_result"
    }
   ],
   "source": [
    "d= lambda a,b,c:a*b*c\n",
    "d(3,3,3)"
   ]
  },
  {
   "cell_type": "code",
   "execution_count": 1,
   "id": "1804e75a-83da-423e-be1f-b55ef443c9aa",
   "metadata": {},
   "outputs": [],
   "source": [
    "\n"
   ]
  },
  {
   "cell_type": "code",
   "execution_count": 12,
   "id": "33a436d5-6a15-419f-9b52-b7cbdee39498",
   "metadata": {},
   "outputs": [
    {
     "name": "stdout",
     "output_type": "stream",
     "text": [
      "TATA Indica 1990\n",
      "Maruti Swift 1996\n"
     ]
    }
   ],
   "source": [
    "#classes\n",
    "class car:\n",
    "     def carinfo(self,model,name,year):\n",
    "        self.model=model\n",
    "        self.name=name\n",
    "        self.year=year\n",
    "c1=car()\n",
    "c2=car()\n",
    "c1.carinfo(\"TATA\",\"Indica\",\"1990\")\n",
    "c2.carinfo(\"Maruti\",\"Swift\",\"1996\")\n",
    "print(c1.model,c1.name,c1.year)\n",
    "print(c2.model,c2.name,c2.year)"
   ]
  },
  {
   "cell_type": "code",
   "execution_count": 14,
   "id": "6946b378-85c7-47bc-a8d6-064c4586ef15",
   "metadata": {},
   "outputs": [
    {
     "name": "stdout",
     "output_type": "stream",
     "text": [
      "Nive\n",
      "ABC\n"
     ]
    }
   ],
   "source": [
    "#Constructors\n",
    "class students:\n",
    "    def __init__(self,name,roll,age,marks):\n",
    "        self.name=name\n",
    "        self.roll=roll\n",
    "        self.age=age\n",
    "        self.marks=marks\n",
    "    def result(self):\n",
    "        self.percentage=(self.marks/500)*100\n",
    "        return percentage\n",
    "s1=students(\"Nive\",29,21,98)\n",
    "s2=students(\"ABC\",28,20,89)\n",
    "print(s1.name)\n",
    "print(s2.name)"
   ]
  },
  {
   "cell_type": "code",
   "execution_count": 24,
   "id": "7f56c99f-873a-416b-87eb-5d6f16604801",
   "metadata": {},
   "outputs": [
    {
     "name": "stdout",
     "output_type": "stream",
     "text": [
      "tommy\n"
     ]
    }
   ],
   "source": [
    "class Dog:\n",
    "    def __init__(self,name,age):\n",
    "        self.name=name\n",
    "        self.age=age\n",
    "    def bark(self):\n",
    "        return self.name +  \" says woof!\"\n",
    "d1=Dog(\"tommy\",3)\n",
    "print(d1.name)"
   ]
  },
  {
   "cell_type": "code",
   "execution_count": 26,
   "id": "abf45e19-2433-4708-ba55-1ead8c162b5f",
   "metadata": {},
   "outputs": [
    {
     "name": "stdout",
     "output_type": "stream",
     "text": [
      "tommy says woof!\n"
     ]
    }
   ],
   "source": [
    "print(d1.bark())"
   ]
  },
  {
   "cell_type": "code",
   "execution_count": 1,
   "id": "26185e7f-9e81-4d5c-b3fd-56e87df66b1c",
   "metadata": {},
   "outputs": [
    {
     "name": "stdout",
     "output_type": "stream",
     "text": [
      "This is xyz class:\n"
     ]
    }
   ],
   "source": [
    "#Inheritance\n",
    "class Class1:\n",
    "     def xyz(self):\n",
    "         print(\"This is xyz class:\")\n",
    " class Class2(Class1):\n",
    "     def abc(self):\n",
    "         print(\"This is abc class:\")\n",
    "c1=Class1()\n",
    "c2=Class2()\n",
    "c2.xyz()"
   ]
  },
  {
   "cell_type": "code",
   "execution_count": 11,
   "id": "082a9feb-9f7c-4fe5-8122-f259271b8f71",
   "metadata": {},
   "outputs": [
    {
     "name": "stdout",
     "output_type": "stream",
     "text": [
      "8\n",
      "30\n",
      "This is child class:\n"
     ]
    }
   ],
   "source": [
    "#Multiple Inheritance\n",
    "class c1:\n",
    "        def method1(self,a,b):\n",
    "            print(a*b)\n",
    "    class c2:\n",
    "        def method2(self,x,y):\n",
    "            print(x+y)\n",
    "    class c3(c1,c2):\n",
    "        def method3(self):\n",
    "            print(\"This is child class:\")\n",
    "    child=c3()\n",
    "    child.method2(3,5)\n",
    "    child.method1(5,6)\n",
    "    child.method3()"
   ]
  },
  {
   "cell_type": "code",
   "execution_count": 13,
   "id": "1f6e4429-693e-4004-8b69-33288420fc67",
   "metadata": {},
   "outputs": [
    {
     "name": "stdout",
     "output_type": "stream",
     "text": [
      "6\n",
      "11\n",
      "this is child class:\n"
     ]
    }
   ],
   "source": [
    "#Multilevel Inheritance:\n",
    "class grandmother:\n",
    "    def multiply(self,a,b):\n",
    "        print(a*b)\n",
    "class mother(grandmother):\n",
    "    def add(self,x,y):\n",
    "        print(x+y)\n",
    "class daughter(mother):\n",
    "    def child(self):\n",
    "        print(\"this is child class:\")\n",
    "D=daughter()\n",
    "D.multiply(2,3)\n",
    "D.add(5,6)\n",
    "D.child()"
   ]
  },
  {
   "cell_type": "code",
   "execution_count": 19,
   "id": "bab69aa8-b8d3-474d-8ab3-88b2be3a9779",
   "metadata": {},
   "outputs": [
    {
     "name": "stdout",
     "output_type": "stream",
     "text": [
      "This is Dad's class:\n",
      "This is Dad's class:\n",
      "This is Dad's class:\n"
     ]
    }
   ],
   "source": [
    "#Hierarchial Inheritance\n",
    "class dad:\n",
    "    def show(self):\n",
    "        print(\"This is Dad's class:\")\n",
    "class child1(dad):\n",
    "    def display1(self):\n",
    "        print(\"This is child1 class:\")\n",
    "class child2(dad):\n",
    "    def display2(self):\n",
    "        print(\"This is child2 class:\")\n",
    "class child3(dad):\n",
    "    def display2(self):\n",
    "        print(\"This is child3 class:\")\n",
    "obj1=child1()\n",
    "obj2=child2()\n",
    "obj3=child3()\n",
    "obj1.show()\n",
    "obj2.show()\n",
    "obj3.show()\n",
    "        "
   ]
  },
  {
   "cell_type": "code",
   "execution_count": 23,
   "id": "8191945a-7c13-4ec9-b8f8-2f7d0ac7b5a9",
   "metadata": {},
   "outputs": [
    {
     "name": "stdout",
     "output_type": "stream",
     "text": [
      "This is c class:\n",
      "6\n",
      "9\n",
      "This is child class\n",
      "This is hybrid class:\n"
     ]
    }
   ],
   "source": [
    "#Hybrid Inheritance\n",
    "class dad:\n",
    "    def show(self,a,b):\n",
    "        print(a+b)\n",
    "class mom:\n",
    "    def show1(self,x,y):\n",
    "        print(x*y)\n",
    "class child(dad,mom):\n",
    "    def display(self):\n",
    "        print(\"This is child class\")\n",
    "class gm:\n",
    "    def show(self):\n",
    "        print(\"this is gm class:\")\n",
    "class m(gm):\n",
    "    def xyz(self):\n",
    "        print(\"This is m class:\")\n",
    "class c(m):\n",
    "    def dis(self):\n",
    "        print(\"This is c class:\")\n",
    "class hybrid(child,c):\n",
    "    def hfunc(self):\n",
    "        print(\"This is hybrid class:\")\n",
    "obj=hybrid()\n",
    "obj.dis()\n",
    "obj.show1(3,2)\n",
    "obj.show(4,5)\n",
    "obj.display()\n",
    "obj.hfunc()"
   ]
  },
  {
   "cell_type": "code",
   "execution_count": null,
   "id": "32f40e4a-e921-438e-8716-d527ae3d41dc",
   "metadata": {},
   "outputs": [],
   "source": [
    "#6. Create a class named ‘Super’ and inside that class define a user-defined function named\n",
    "#fun1.\n",
    "#a. Inside the ‘fun1’ function, pass the message “This is function 1 in the Super class.”\n",
    "#in the print statement."
   ]
  },
  {
   "cell_type": "code",
   "execution_count": 29,
   "id": "80c4832b-c696-4299-ad0a-f340db433aaf",
   "metadata": {},
   "outputs": [
    {
     "name": "stdout",
     "output_type": "stream",
     "text": [
      "This is function 1 in the Super class.\n"
     ]
    }
   ],
   "source": [
    "class Super:\n",
    "    def fun1(self):\n",
    "        print(\"This is function 1 in the Super class.\")\n",
    "obj1=Super()\n",
    "obj1.fun1()"
   ]
  },
  {
   "cell_type": "code",
   "execution_count": 37,
   "id": "42f4f72b-bcd5-4be9-aca9-c398953140de",
   "metadata": {},
   "outputs": [
    {
     "name": "stdout",
     "output_type": "stream",
     "text": [
      "99\n",
      "A1\n",
      "ABC\n",
      "21\n"
     ]
    }
   ],
   "source": [
    "#access specifiers\n",
    "class student:\n",
    "    def __init__(self,name,age,marks,section):\n",
    "        self.name=name\n",
    "        self.age=age\n",
    "        self.__marks=marks\n",
    "        self.__section=section\n",
    "        print(var.__marks)\n",
    "        print(var.__section)\n",
    "var=student(\"ABC\",21,99,\"A1\")\n",
    "print(var.name)\n",
    "print(var.age)\n"
   ]
  },
  {
   "cell_type": "code",
   "execution_count": 43,
   "id": "b8f7291a-ed93-44ec-9368-bb7de50a65d9",
   "metadata": {},
   "outputs": [
    {
     "name": "stdout",
     "output_type": "stream",
     "text": [
      "child class\n",
      "Parent class\n"
     ]
    }
   ],
   "source": [
    "#Method overriding\n",
    "class parent:\n",
    "    def show(self):\n",
    "        print(\"Parent class\")\n",
    "class child(parent): #inheritance\n",
    "    def show(self):\n",
    "        print(\"child class\")\n",
    "        super().show() #it will call the parent method\n",
    "o1=parent()\n",
    "o2=child()\n",
    "o2.show()"
   ]
  },
  {
   "cell_type": "code",
   "execution_count": 49,
   "id": "c148f5c6-0c5a-47a7-bb92-d161fa026953",
   "metadata": {},
   "outputs": [
    {
     "name": "stdout",
     "output_type": "stream",
     "text": [
      "6\n"
     ]
    }
   ],
   "source": [
    "#Method overloading\n",
    "class example:\n",
    "    def mul(self,a=1,b=2,c=3):\n",
    "        print(a*b*c)\n",
    "obj=example()\n",
    "obj.mul()"
   ]
  },
  {
   "cell_type": "code",
   "execution_count": 51,
   "id": "ed0637c4-0640-4141-b3a9-6158a4988c8c",
   "metadata": {},
   "outputs": [
    {
     "name": "stdout",
     "output_type": "stream",
     "text": [
      "36\n"
     ]
    }
   ],
   "source": [
    "obj.mul(4,3)"
   ]
  },
  {
   "cell_type": "code",
   "execution_count": 110,
   "id": "01309b25-8e3e-40d9-86f1-a9a7bb263116",
   "metadata": {},
   "outputs": [
    {
     "name": "stdin",
     "output_type": "stream",
     "text": [
      "Enter your name: d\n",
      "Enter your age: 2\n"
     ]
    },
    {
     "data": {
      "text/plain": [
       "('d', '2')"
      ]
     },
     "execution_count": 110,
     "metadata": {},
     "output_type": "execute_result"
    }
   ],
   "source": [
    "class example:\n",
    "    def msg(self):\n",
    "        self.name=input(\"Enter your name:\")\n",
    "        self.age=input(\"Enter your age:\")\n",
    "        return self.name, self.age\n",
    "    #def res(self):\n",
    "     #   return self.msg()\n",
    "e=example()\n",
    "e.msg()\n",
    "#e.res()\n"
   ]
  },
  {
   "cell_type": "code",
   "execution_count": null,
   "id": "bfeb523c-1951-45c5-ab69-46a426aea08c",
   "metadata": {},
   "outputs": [],
   "source": []
  },
  {
   "cell_type": "code",
   "execution_count": null,
   "id": "0e323d5a-77ff-4d32-8394-a25a47f40a5c",
   "metadata": {},
   "outputs": [],
   "source": [
    "\n"
   ]
  }
 ],
 "metadata": {
  "kernelspec": {
   "display_name": "Python 3 (ipykernel)",
   "language": "python",
   "name": "python3"
  },
  "language_info": {
   "codemirror_mode": {
    "name": "ipython",
    "version": 3
   },
   "file_extension": ".py",
   "mimetype": "text/x-python",
   "name": "python",
   "nbconvert_exporter": "python",
   "pygments_lexer": "ipython3",
   "version": "3.12.4"
  }
 },
 "nbformat": 4,
 "nbformat_minor": 5
}
